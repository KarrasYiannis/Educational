{
  "nbformat": 4,
  "nbformat_minor": 0,
  "metadata": {
    "colab": {
      "provenance": [],
      "authorship_tag": "ABX9TyNfYA/mW+jgAPhEpmQy9dm6",
      "include_colab_link": true
    },
    "kernelspec": {
      "name": "python3",
      "display_name": "Python 3"
    },
    "language_info": {
      "name": "python"
    }
  },
  "cells": [
    {
      "cell_type": "markdown",
      "metadata": {
        "id": "view-in-github",
        "colab_type": "text"
      },
      "source": [
        "<a href=\"https://colab.research.google.com/github/KarrasYiannis/Educational/blob/master/NN%20from%20scratch.ipynb\" target=\"_parent\"><img src=\"https://colab.research.google.com/assets/colab-badge.svg\" alt=\"Open In Colab\"/></a>"
      ]
    },
    {
      "cell_type": "code",
      "execution_count": null,
      "metadata": {
        "colab": {
          "base_uri": "https://localhost:8080/"
        },
        "id": "-KpHyV_WmDTD",
        "outputId": "53715f67-4e13-4028-b190-b42a49d74d91"
      },
      "outputs": [
        {
          "output_type": "stream",
          "name": "stdout",
          "text": [
            "        Date  Customer_ID  Random_Value  Defaults\n",
            "0 2022-01-01            1      0.779586         0\n",
            "1 2022-01-01            2      0.872237         0\n",
            "2 2022-01-01            3      0.384199         0\n",
            "3 2022-01-01            4      0.641135         0\n",
            "4 2022-01-02            1      0.439375         0\n"
          ]
        }
      ],
      "source": [
        "# prompt: We want to create  a pandas dataframe with four columns. 1 column dates from 2022 until  end of 2024. 2nd Customer id (We need 4 customers) . 3 a random continous nymber from 30% to 89%. 4rth column an indicator based on Poisson with lambda  equal to 3 defaults per year\n",
        "\n",
        "import pandas as pd\n",
        "import numpy as np\n",
        "from datetime import datetime, timedelta\n",
        "\n",
        "# Date range\n",
        "start_date = datetime(2022, 1, 1)\n",
        "end_date = datetime(2024, 12, 31)\n",
        "date_range = pd.date_range(start=start_date, end=end_date)\n",
        "\n",
        "# Customer IDs\n",
        "customer_ids = [1, 2, 3, 4]\n",
        "\n",
        "# Create the DataFrame\n",
        "data = {\n",
        "    'Date': np.repeat(date_range, len(customer_ids)),\n",
        "    'Customer_ID': np.tile(customer_ids, len(date_range)),\n",
        "    'Random_Value': np.random.uniform(0.3, 0.89, len(date_range) * len(customer_ids))\n",
        "}\n",
        "\n",
        "df = pd.DataFrame(data)\n",
        "\n",
        "# Poisson distribution for defaults (3 per year)\n",
        "# Calculate the number of days in a year\n",
        "days_in_year = 365  # For simplicity\n",
        "\n",
        "# Calculate the lambda for the poisson distribution based on the days of the year\n",
        "lambda_value = 3 / days_in_year\n",
        "\n",
        "# Generate the defaults\n",
        "defaults = np.random.poisson(lam = lambda_value, size = len(df))\n",
        "df['Defaults'] = defaults\n",
        "\n",
        "print(df.head())\n"
      ]
    },
    {
      "cell_type": "code",
      "source": [
        "import numpy as np\n",
        "\n",
        "X = [[]]\n",
        "\n",
        "class Layer:\n",
        "\n",
        "    def __init__(self, n_inputs, n_neurons):\n",
        "        self.weights = 0.1 * np.random.randn(n_inputs, n_neurons)\n",
        "        self.biases = np.zeros((1, n_neurons))\n",
        "\n",
        "    def forward(self, inputs):\n",
        "        self.output = np.dot(inputs, self.weights) + self.biases\n",
        "\n",
        "layer1 = Layer(4, 5)\n",
        "layer2 = Layer(5, 2)\n",
        "\n",
        "layer1.forward(X)\n",
        "print(layer1.output)\n",
        "layer2.forward(layer1.output)\n",
        "print(layer2.output)\n",
        "\n",
        "\n"
      ],
      "metadata": {
        "id": "WjBINFsM4qtA"
      },
      "execution_count": null,
      "outputs": []
    },
    {
      "cell_type": "code",
      "source": [
        "import numpy as np\n",
        "input = [1, 2, 3, 2.5 ,-4 ]\n",
        "input = np.array(input)/np.max(input)\n",
        "\n",
        "print([ 1/(1 + np.exp(-i)) for i in input if  i>0] )"
      ],
      "metadata": {
        "id": "72szYafP4qHj",
        "outputId": "29e5b77f-1143-46fd-be37-20e823d5780e",
        "colab": {
          "base_uri": "https://localhost:8080/"
        }
      },
      "execution_count": 9,
      "outputs": [
        {
          "output_type": "stream",
          "name": "stdout",
          "text": [
            "[0.5825702064623147, 0.6607563687658172, 0.7310585786300049, 0.6970592839654074]\n"
          ]
        }
      ]
    },
    {
      "cell_type": "code",
      "source": [],
      "metadata": {
        "id": "iZiF3rlS45YL"
      },
      "execution_count": null,
      "outputs": []
    }
  ]
}