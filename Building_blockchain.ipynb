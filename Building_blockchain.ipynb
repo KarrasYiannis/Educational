{
  "nbformat": 4,
  "nbformat_minor": 0,
  "metadata": {
    "colab": {
      "provenance": [],
      "authorship_tag": "ABX9TyObdeDcIh2Ss/GDUwDuZcW8",
      "include_colab_link": true
    },
    "kernelspec": {
      "name": "python3",
      "display_name": "Python 3"
    },
    "language_info": {
      "name": "python"
    }
  },
  "cells": [
    {
      "cell_type": "markdown",
      "metadata": {
        "id": "view-in-github",
        "colab_type": "text"
      },
      "source": [
        "<a href=\"https://colab.research.google.com/github/KarrasYiannis/Educational/blob/master/Building_blockchain.ipynb\" target=\"_parent\"><img src=\"https://colab.research.google.com/assets/colab-badge.svg\" alt=\"Open In Colab\"/></a>"
      ]
    },
    {
      "cell_type": "code",
      "execution_count": null,
      "metadata": {
        "id": "-GvmT9mlfmrH"
      },
      "outputs": [],
      "source": [
        "class Block:\n",
        "    id  = None\n",
        "    history =  None\n",
        "    parent_id = None"
      ]
    },
    {
      "cell_type": "code",
      "source": [
        "block_A = Block()\n",
        "block_A.id = 1\n",
        "block_A.history = \"Neson likes cat\""
      ],
      "metadata": {
        "id": "34DfK4UrgNRJ"
      },
      "execution_count": null,
      "outputs": []
    },
    {
      "cell_type": "code",
      "source": [
        "block_B = Block()\n",
        "block_B.id = block_A.id+1\n",
        "block_B.history = \"Malies likes dog\"\n",
        "block_B.parent_id = block_A.id"
      ],
      "metadata": {
        "id": "RoyitAeRgg-1"
      },
      "execution_count": null,
      "outputs": []
    },
    {
      "cell_type": "code",
      "source": [
        "block_C = Block()\n",
        "block_C.id = block_B.id+1\n",
        "block_C.history = \"Malies likes dog\"\n",
        "block_C.parent_id = block_B.id"
      ],
      "metadata": {
        "id": "vjB9IwmWgpOD"
      },
      "execution_count": null,
      "outputs": []
    },
    {
      "cell_type": "code",
      "source": [
        "list_with = [E, F, G]\n",
        "\n",
        "for x in list_with:\n",
        "    x = Block()\n",
        "    x.id = x.id+1\n",
        "    block_{x}.history = f\"{x} likes {x}\"\n",
        "    block_{x}.parent_id = block_{x}.id\n",
        "\n"
      ],
      "metadata": {
        "colab": {
          "base_uri": "https://localhost:8080/",
          "height": 133
        },
        "id": "JtLJibZchg8h",
        "outputId": "dff5f1b6-55a8-4624-f144-7a6a981ec0f3"
      },
      "execution_count": null,
      "outputs": [
        {
          "output_type": "error",
          "ename": "SyntaxError",
          "evalue": "ignored",
          "traceback": [
            "\u001b[0;36m  File \u001b[0;32m\"<ipython-input-8-c5229befe980>\"\u001b[0;36m, line \u001b[0;32m4\u001b[0m\n\u001b[0;31m    block_{x} = Block()\u001b[0m\n\u001b[0m          ^\u001b[0m\n\u001b[0;31mSyntaxError\u001b[0m\u001b[0;31m:\u001b[0m invalid syntax\n"
          ]
        }
      ]
    },
    {
      "cell_type": "code",
      "source": [
        "!pip install wheel\n",
        "!pip install cryptography"
      ],
      "metadata": {
        "colab": {
          "base_uri": "https://localhost:8080/"
        },
        "id": "35qYBikYoiob",
        "outputId": "d1a67a4a-1757-44c0-ff98-ca3ff756f1ba"
      },
      "execution_count": null,
      "outputs": [
        {
          "output_type": "stream",
          "name": "stdout",
          "text": [
            "Requirement already satisfied: wheel in /usr/local/lib/python3.10/dist-packages (0.41.0)\n",
            "Requirement already satisfied: cryptography in /usr/lib/python3/dist-packages (3.4.8)\n"
          ]
        }
      ]
    },
    {
      "cell_type": "code",
      "source": [
        "import hashlib\n",
        "import json\n",
        "class Block:\n",
        "    id = None\n",
        "    history = None\n",
        "    parent_id = None\n",
        "    parent_hash = None\n",
        "\n",
        "block_A = Block()\n",
        "block_A.id = 1\n",
        "block_A.history = 'Nelson likes cat'\n",
        "\n",
        "block_B = Block()\n",
        "block_B.id = 2\n",
        "block_B.history = 'Marie likes dog'\n",
        "block_B.parent_id = block_A.id\n",
        "block_B.parent_hash = hashlib.sha256(json.dumps(block_A.__dict__).encode('utf-8')).hexdigest()\n",
        "\n",
        "block_C = Block()\n",
        "block_C.id = 3\n",
        "block_C.history = 'Marie likes dog'\n",
        "block_C.parent_id = block_B.id\n",
        "block_C.parent_hash = hashlib.sha256(json.dumps(block_B.__dict__).encode('utf-8')).hexdigest()"
      ],
      "metadata": {
        "id": "-o0rwb7kpMaX"
      },
      "execution_count": 1,
      "outputs": []
    },
    {
      "cell_type": "code",
      "source": [
        "#Proof of work\n",
        "block_D = Block()\n",
        "block_D.id = 4\n",
        "block_D.history = \"Sky loves turtle\"\n",
        "block_D.parent_id = block_C.id"
      ],
      "metadata": {
        "id": "6IJni2YJtaP4"
      },
      "execution_count": 2,
      "outputs": []
    },
    {
      "cell_type": "code",
      "source": [
        "#Serialize the block D\n",
        "block_serialized = json.dumps(block_D.__dict__).encode('utf-8')\n",
        "print(block_D.__dict__)\n",
        "print(block_serialized)\n",
        "\n"
      ],
      "metadata": {
        "colab": {
          "base_uri": "https://localhost:8080/"
        },
        "id": "O4xAlBzz9PoX",
        "outputId": "ea033231-f26d-4150-f5f4-536b714115d4"
      },
      "execution_count": 5,
      "outputs": [
        {
          "output_type": "stream",
          "name": "stdout",
          "text": [
            "{'id': 4, 'history': 'Sky loves turtle', 'parent_id': 3}\n",
            "b'{\"id\": 4, \"history\": \"Sky loves turtle\", \"parent_id\": 3}'\n"
          ]
        }
      ]
    },
    {
      "cell_type": "code",
      "source": [
        "#Brute force\n",
        "payload = block_serialized\n",
        "for i in range(100000000):\n",
        "    nonce = str(i).encode('utf-8')\n",
        "    result = hashlib.sha256(payload + nonce).hexdigest()\n",
        "    if result[0:5] == '000000000000':\n",
        "        print(i)\n",
        "        print(result)\n",
        "        break\n"
      ],
      "metadata": {
        "colab": {
          "base_uri": "https://localhost:8080/",
          "height": 241
        },
        "id": "bjyxKnuG938C",
        "outputId": "255bc772-8eff-4c0a-c1f9-83881cd99352"
      },
      "execution_count": 10,
      "outputs": [
        {
          "output_type": "error",
          "ename": "KeyboardInterrupt",
          "evalue": "ignored",
          "traceback": [
            "\u001b[0;31m---------------------------------------------------------------------------\u001b[0m",
            "\u001b[0;31mKeyboardInterrupt\u001b[0m                         Traceback (most recent call last)",
            "\u001b[0;32m<ipython-input-10-1266c6ca9b92>\u001b[0m in \u001b[0;36m<cell line: 3>\u001b[0;34m()\u001b[0m\n\u001b[1;32m      3\u001b[0m \u001b[0;32mfor\u001b[0m \u001b[0mi\u001b[0m \u001b[0;32min\u001b[0m \u001b[0mrange\u001b[0m\u001b[0;34m(\u001b[0m\u001b[0;36m100000000\u001b[0m\u001b[0;34m)\u001b[0m\u001b[0;34m:\u001b[0m\u001b[0;34m\u001b[0m\u001b[0;34m\u001b[0m\u001b[0m\n\u001b[1;32m      4\u001b[0m     \u001b[0mnonce\u001b[0m \u001b[0;34m=\u001b[0m \u001b[0mstr\u001b[0m\u001b[0;34m(\u001b[0m\u001b[0mi\u001b[0m\u001b[0;34m)\u001b[0m\u001b[0;34m.\u001b[0m\u001b[0mencode\u001b[0m\u001b[0;34m(\u001b[0m\u001b[0;34m'utf-8'\u001b[0m\u001b[0;34m)\u001b[0m\u001b[0;34m\u001b[0m\u001b[0;34m\u001b[0m\u001b[0m\n\u001b[0;32m----> 5\u001b[0;31m     \u001b[0mresult\u001b[0m \u001b[0;34m=\u001b[0m \u001b[0mhashlib\u001b[0m\u001b[0;34m.\u001b[0m\u001b[0msha256\u001b[0m\u001b[0;34m(\u001b[0m\u001b[0mpayload\u001b[0m \u001b[0;34m+\u001b[0m \u001b[0mnonce\u001b[0m\u001b[0;34m)\u001b[0m\u001b[0;34m.\u001b[0m\u001b[0mhexdigest\u001b[0m\u001b[0;34m(\u001b[0m\u001b[0;34m)\u001b[0m\u001b[0;34m\u001b[0m\u001b[0;34m\u001b[0m\u001b[0m\n\u001b[0m\u001b[1;32m      6\u001b[0m     \u001b[0;32mif\u001b[0m \u001b[0mresult\u001b[0m\u001b[0;34m[\u001b[0m\u001b[0;36m0\u001b[0m\u001b[0;34m:\u001b[0m\u001b[0;36m5\u001b[0m\u001b[0;34m]\u001b[0m \u001b[0;34m==\u001b[0m \u001b[0;34m'000000000000'\u001b[0m\u001b[0;34m:\u001b[0m\u001b[0;34m\u001b[0m\u001b[0;34m\u001b[0m\u001b[0m\n\u001b[1;32m      7\u001b[0m         \u001b[0mprint\u001b[0m\u001b[0;34m(\u001b[0m\u001b[0mi\u001b[0m\u001b[0;34m)\u001b[0m\u001b[0;34m\u001b[0m\u001b[0;34m\u001b[0m\u001b[0m\n",
            "\u001b[0;31mKeyboardInterrupt\u001b[0m: "
          ]
        }
      ]
    },
    {
      "cell_type": "code",
      "source": [
        "#Consencus\n"
      ],
      "metadata": {
        "id": "TeRhpxX5AIgG"
      },
      "execution_count": null,
      "outputs": []
    }
  ]
}