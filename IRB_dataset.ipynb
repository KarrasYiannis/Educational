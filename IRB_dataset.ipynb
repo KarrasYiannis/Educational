{
  "nbformat": 4,
  "nbformat_minor": 0,
  "metadata": {
    "colab": {
      "provenance": [],
      "authorship_tag": "ABX9TyMPAhxEZd2CzPh+vVSsInk5",
      "include_colab_link": true
    },
    "kernelspec": {
      "name": "python3",
      "display_name": "Python 3"
    },
    "language_info": {
      "name": "python"
    }
  },
  "cells": [
    {
      "cell_type": "markdown",
      "metadata": {
        "id": "view-in-github",
        "colab_type": "text"
      },
      "source": [
        "<a href=\"https://colab.research.google.com/github/KarrasYiannis/Educational/blob/master/IRB_dataset.ipynb\" target=\"_parent\"><img src=\"https://colab.research.google.com/assets/colab-badge.svg\" alt=\"Open In Colab\"/></a>"
      ]
    },
    {
      "cell_type": "code",
      "execution_count": null,
      "metadata": {
        "colab": {
          "base_uri": "https://localhost:8080/"
        },
        "id": "-KpHyV_WmDTD",
        "outputId": "53715f67-4e13-4028-b190-b42a49d74d91"
      },
      "outputs": [
        {
          "output_type": "stream",
          "name": "stdout",
          "text": [
            "        Date  Customer_ID  Random_Value  Defaults\n",
            "0 2022-01-01            1      0.779586         0\n",
            "1 2022-01-01            2      0.872237         0\n",
            "2 2022-01-01            3      0.384199         0\n",
            "3 2022-01-01            4      0.641135         0\n",
            "4 2022-01-02            1      0.439375         0\n"
          ]
        }
      ],
      "source": [
        "# prompt: We want to create  a pandas dataframe with four columns. 1 column dates from 2022 until  end of 2024. 2nd Customer id (We need 4 customers) . 3 a random continous nymber from 30% to 89%. 4rth column an indicator based on Poisson with lambda  equal to 3 defaults per year\n",
        "\n",
        "import pandas as pd\n",
        "import numpy as np\n",
        "from datetime import datetime, timedelta\n",
        "\n",
        "# Date range\n",
        "start_date = datetime(2022, 1, 1)\n",
        "end_date = datetime(2024, 12, 31)\n",
        "date_range = pd.date_range(start=start_date, end=end_date)\n",
        "\n",
        "# Customer IDs\n",
        "customer_ids = [1, 2, 3, 4]\n",
        "\n",
        "# Create the DataFrame\n",
        "data = {\n",
        "    'Date': np.repeat(date_range, len(customer_ids)),\n",
        "    'Customer_ID': np.tile(customer_ids, len(date_range)),\n",
        "    'Random_Value': np.random.uniform(0.3, 0.89, len(date_range) * len(customer_ids))\n",
        "}\n",
        "\n",
        "df = pd.DataFrame(data)\n",
        "\n",
        "# Poisson distribution for defaults (3 per year)\n",
        "# Calculate the number of days in a year\n",
        "days_in_year = 365  # For simplicity\n",
        "\n",
        "# Calculate the lambda for the poisson distribution based on the days of the year\n",
        "lambda_value = 3 / days_in_year\n",
        "\n",
        "# Generate the defaults\n",
        "defaults = np.random.poisson(lam = lambda_value, size = len(df))\n",
        "df['Defaults'] = defaults\n",
        "\n",
        "print(df.head())\n"
      ]
    },
    {
      "cell_type": "code",
      "source": [
        "# prompt: create  a pandas dataframe with four columns. 1 column dates from 2022 until  end of 2024. 2nd Customer id (We need 4 customers) . 3 a random continous nymber and name \"realised LGD\"  from 30% to 89%. 4rth column an indicator based on Poisson with lambda  equal to 3 defaults per year. Please note for each customer I need  random number of observations\n",
        "\n",
        "import pandas as pd\n",
        "import numpy as np\n",
        "from datetime import datetime, timedelta\n",
        "\n",
        "# Date range\n",
        "start_date = datetime(2022, 1, 1)\n",
        "end_date = datetime(2024, 12, 31)\n",
        "date_range = pd.date_range(start=start_date, end=end_date)\n",
        "\n",
        "# Customer IDs\n",
        "customer_ids = [1, 2, 3, 4]\n",
        "\n",
        "# Create an empty list to store data for each customer\n",
        "all_data = []\n",
        "\n",
        "# Loop through each customer\n",
        "for customer_id in customer_ids:\n",
        "    # Generate a random number of observations for the current customer\n",
        "    num_observations = np.random.randint(100,500) # Example: between 100 and 500 observations\n",
        "\n",
        "    # Generate random dates within the specified range for the current customer\n",
        "    random_dates = np.random.choice(date_range, size=num_observations, replace=True)\n",
        "\n",
        "    # Create a DataFrame for the current customer\n",
        "    customer_data = {\n",
        "        'Date': random_dates,\n",
        "        'Customer_ID': np.repeat(customer_id, num_observations),\n",
        "        'Realised_LGD': np.random.uniform(0.3, 0.89, num_observations),\n",
        "        'Defaults': np.random.poisson(lam=3/365, size=num_observations)\n",
        "    }\n",
        "\n",
        "    customer_df = pd.DataFrame(customer_data)\n",
        "    all_data.append(customer_df)\n",
        "\n",
        "\n",
        "# Concatenate the DataFrames for all customers\n",
        "df = pd.concat(all_data, ignore_index=True)\n",
        "\n",
        "print(df)\n"
      ],
      "metadata": {
        "colab": {
          "base_uri": "https://localhost:8080/"
        },
        "id": "0eNuFCEDVhTO",
        "outputId": "613eaa1e-85c6-4897-8ebb-5d86e17444f0"
      },
      "execution_count": 3,
      "outputs": [
        {
          "output_type": "stream",
          "name": "stdout",
          "text": [
            "           Date  Customer_ID  Realised_LGD  Defaults\n",
            "0    2023-04-17            1      0.694987         0\n",
            "1    2022-01-28            1      0.351723         0\n",
            "2    2023-06-05            1      0.853143         0\n",
            "3    2024-11-17            1      0.756117         0\n",
            "4    2022-02-03            1      0.381215         0\n",
            "...         ...          ...           ...       ...\n",
            "1653 2024-09-04            4      0.449659         0\n",
            "1654 2022-04-19            4      0.706488         0\n",
            "1655 2023-07-08            4      0.642159         0\n",
            "1656 2023-10-23            4      0.742006         0\n",
            "1657 2023-02-06            4      0.813851         0\n",
            "\n",
            "[1658 rows x 4 columns]\n"
          ]
        }
      ]
    },
    {
      "cell_type": "code",
      "source": [
        "df['Defaults'].sum()"
      ],
      "metadata": {
        "colab": {
          "base_uri": "https://localhost:8080/"
        },
        "id": "cm5ssXqPGVi4",
        "outputId": "0a1c12ed-6b01-406b-f827-cf7c5283fdbe"
      },
      "execution_count": 4,
      "outputs": [
        {
          "output_type": "execute_result",
          "data": {
            "text/plain": [
              "13"
            ]
          },
          "metadata": {},
          "execution_count": 4
        }
      ]
    },
    {
      "cell_type": "code",
      "source": [],
      "metadata": {
        "id": "U38sGUWTG6VJ"
      },
      "execution_count": null,
      "outputs": []
    }
  ]
}